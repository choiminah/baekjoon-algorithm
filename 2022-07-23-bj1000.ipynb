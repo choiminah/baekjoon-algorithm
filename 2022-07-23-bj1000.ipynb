{
 "cells": [
  {
   "cell_type": "markdown",
   "id": "f294bfa3-bdb6-4bb6-b146-f97bfea72e14",
   "metadata": {},
   "source": [
    "# **`1000`**. A+B\n",
    "> \"작성완료\"\n",
    "\n",
    "- toc: true\n",
    "- branch: master\n",
    "- badges: true\n",
    "- comments: true\n",
    "- author: 최민아\n",
    "- categories: [python]"
   ]
  },
  {
   "cell_type": "markdown",
   "id": "8bf30fea-df3e-42f3-b75a-f529e4a84da7",
   "metadata": {},
   "source": [
    "두 정수 A와 B를 입력받은 다음, A+B를 출력하는 프로그램을 작성하시오."
   ]
  },
  {
   "cell_type": "code",
   "execution_count": 8,
   "id": "f5b4f53d-d9a8-4e41-88bf-0486994dd5bc",
   "metadata": {},
   "outputs": [
    {
     "name": "stdin",
     "output_type": "stream",
     "text": [
      " 1 2\n"
     ]
    }
   ],
   "source": [
    "A, B = input().split()"
   ]
  },
  {
   "cell_type": "code",
   "execution_count": 9,
   "id": "7d3ccbf1-af12-4636-b28d-ccaa0b6f2bd8",
   "metadata": {},
   "outputs": [
    {
     "name": "stdout",
     "output_type": "stream",
     "text": [
      "3\n"
     ]
    }
   ],
   "source": [
    "print(int(A)+int(B))"
   ]
  },
  {
   "cell_type": "markdown",
   "id": "11043742-dfc0-4932-80f2-d882e9ba340d",
   "metadata": {},
   "source": [
    "---"
   ]
  },
  {
   "cell_type": "markdown",
   "id": "de9481b1-ffce-4800-9485-cbfbeec3cf2a",
   "metadata": {},
   "source": [
    "- 변수1, 변수2 = input(문자열).split(기준문자)\n",
    "> note: 기준 문자 없는 경우, 입력받은 값을 공백을 기준으로 분리"
   ]
  },
  {
   "cell_type": "markdown",
   "id": "127970b7-3c69-43d8-924c-a7a7a8dbd1f6",
   "metadata": {},
   "source": [
    "- 변수1, 변수2 = map(type, input(문자열).split(기준문자))"
   ]
  }
 ],
 "metadata": {
  "kernelspec": {
   "display_name": "Python 3 (ipykernel)",
   "language": "python",
   "name": "python3"
  },
  "language_info": {
   "codemirror_mode": {
    "name": "ipython",
    "version": 3
   },
   "file_extension": ".py",
   "mimetype": "text/x-python",
   "name": "python",
   "nbconvert_exporter": "python",
   "pygments_lexer": "ipython3",
   "version": "3.8.12"
  }
 },
 "nbformat": 4,
 "nbformat_minor": 5
}
